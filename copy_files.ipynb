{
 "cells": [
  {
   "cell_type": "code",
   "execution_count": 1,
   "metadata": {},
   "outputs": [],
   "source": [
    "import os, shutil, pickle\n",
    "from os.path import join"
   ]
  },
  {
   "cell_type": "code",
   "execution_count": 9,
   "metadata": {},
   "outputs": [],
   "source": [
    "def copy_fit_result(label_path, src_dir, dst_dir, selected_labels=[1, 2, 3, 4, 5]):\n",
    "    label = pickle.load(open(label_path, 'rb'))\n",
    "    os.makedirs(dst_dir)\n",
    "    for id in range(1, 926):\n",
    "        if label[id] in selected_labels:\n",
    "            try:\n",
    "                shutil.copy(\n",
    "                    join(src_dir, f'{id}_{label[id]}.txt'),\n",
    "                    join(dst_dir, f'pointCloud{id}_prediction.txt')\n",
    "                )\n",
    "            except:\n",
    "                pass"
   ]
  },
  {
   "cell_type": "code",
   "execution_count": 10,
   "metadata": {},
   "outputs": [],
   "source": [
    "copy_fit_result(\n",
    "    label_path='./res_dict/test_label_runA.pkl',\n",
    "    src_dir='./result/',\n",
    "    dst_dir='./submission/runA/',\n",
    "    selected_labels=[1, 2, 3, 4, 5]\n",
    ")"
   ]
  },
  {
   "cell_type": "code",
   "execution_count": 11,
   "metadata": {},
   "outputs": [],
   "source": [
    "copy_fit_result(\n",
    "    label_path='./res_dict/test_label_runB.pkl',\n",
    "    src_dir='./result/',\n",
    "    dst_dir='./submission/runB/',\n",
    "    selected_labels=[1, 2, 3, 4, 5]\n",
    ")"
   ]
  }
 ],
 "metadata": {
  "interpreter": {
   "hash": "a50171a6c5550046c047d5886c9bc3e038e1f79a718c8e4171509d576ad3f4ca"
  },
  "kernelspec": {
   "display_name": "Python 3.7.10 ('torch-lts')",
   "language": "python",
   "name": "python3"
  },
  "language_info": {
   "codemirror_mode": {
    "name": "ipython",
    "version": 3
   },
   "file_extension": ".py",
   "mimetype": "text/x-python",
   "name": "python",
   "nbconvert_exporter": "python",
   "pygments_lexer": "ipython3",
   "version": "3.7.10"
  },
  "orig_nbformat": 4
 },
 "nbformat": 4,
 "nbformat_minor": 2
}
