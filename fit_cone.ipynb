{
 "cells": [
  {
   "cell_type": "markdown",
   "metadata": {},
   "source": [
    "### Setup"
   ]
  },
  {
   "cell_type": "code",
   "execution_count": 1,
   "metadata": {},
   "outputs": [
    {
     "name": "stdout",
     "output_type": "stream",
     "text": [
      "Jupyter environment detected. Enabling Open3D WebVisualizer.\n",
      "[Open3D INFO] WebRTC GUI backend enabled.\n",
      "[Open3D INFO] WebRTCWindowSystem: HTTP handshake server disabled.\n"
     ]
    }
   ],
   "source": [
    "import os\n",
    "from icecream import ic\n",
    "from os.path import join\n",
    "import pickle\n",
    "import numpy as np\n",
    "import open3d as o3d\n",
    "from dataloader import *\n",
    "from tqdm.notebook import tqdm\n",
    "\n",
    "import matplotlib.pyplot as plt\n",
    "from matplotlib.patches import Circle\n",
    "import mpl_toolkits.mplot3d.art3d as art3d\n",
    "\n",
    "from mpl_toolkits.mplot3d import Axes3D\n",
    "from scipy.linalg import norm\n",
    "# import pylab as plt\n",
    "\n",
    "import warnings\n",
    "warnings.filterwarnings('ignore')"
   ]
  },
  {
   "cell_type": "markdown",
   "metadata": {},
   "source": [
    "### Utils"
   ]
  },
  {
   "cell_type": "code",
   "execution_count": 2,
   "metadata": {},
   "outputs": [],
   "source": [
    "def get_angle(u, v):\n",
    "    t = np.linalg.norm(u) * np.linalg.norm(v)\n",
    "    return np.abs(np.arccos(np.dot(u, v) / t))\n",
    "\n",
    "\n",
    "def calculate_distances_to_cone(apex, axis_vector, theta, points):\n",
    "    U = points - apex\n",
    "    U /= np.linalg.norm(U, axis=1, keepdims=True)\n",
    "    v = axis_vector / np.linalg.norm(axis_vector)\n",
    "\n",
    "    angles = np.abs(np.arccos(np.dot(U, v)))\n",
    "    angle_errors = np.abs(angles - theta)\n",
    "    mask = angle_errors > (np.pi / 2)\n",
    "\n",
    "    distances_to_apex = np.sqrt(np.sum((points - apex)**2, axis=1))\n",
    "    res = distances_to_apex * np.sin(angle_errors)\n",
    "    res = mask * distances_to_apex + (1 - mask) * res\n",
    "    return res\n",
    "\n",
    "\n",
    "def calculate_ratio(apex, axis_vector, theta, points, eps=1e-3):\n",
    "    ds = calculate_distances_to_cone(apex, axis_vector, theta, points)\n",
    "    return np.sum(ds < eps) / ds.shape[0]\n",
    "\n",
    "\n",
    "def set_size(ax, w, h):\n",
    "    l = ax.figure.subplotpars.left\n",
    "    r = ax.figure.subplotpars.right\n",
    "    t = ax.figure.subplotpars.top\n",
    "    b = ax.figure.subplotpars.bottom\n",
    "    figw = float(w)/(r-l)\n",
    "    figh = float(h)/(t-b)\n",
    "    ax.figure.set_size_inches(figw, figh)\n",
    "\n",
    "\n",
    "def plot_cone(points, apex, axis_vector, theta, H=10, xlim=(-10, 10), ylim=(-10,-10), zlim=(-10, 10)):\n",
    "    fig = plt.figure()\n",
    "    plt.figure(figsize=(10, 10))\n",
    "    ax = fig.add_subplot(111, projection='3d')\n",
    "    ax.axes.set_xlim3d(xlim)\n",
    "    ax.axes.set_ylim3d(ylim)\n",
    "    ax.axes.set_zlim3d(zlim)\n",
    "    set_size(ax, 5, 5)\n",
    "    R1 = H * np.tan(theta)\n",
    "\n",
    "    v = axis_vector * H\n",
    "    mag = norm(v)\n",
    "    v = v / mag\n",
    "    # make some vector not in the same direction as v\n",
    "    not_v = np.array([1, 1, 0])\n",
    "    if (v == not_v).all():\n",
    "        not_v = np.array([0, 1, 0])\n",
    "    n1 = np.cross(v, not_v)\n",
    "    n1 /= norm(n1)\n",
    "    n2 = np.cross(v, n1)\n",
    "    n = 200\n",
    "    t = np.linspace(0, mag, n)\n",
    "    thetas = np.linspace(0, 2 * np.pi, n)\n",
    "    t, thetas = np.meshgrid(t, thetas)\n",
    "    R = np.linspace(0, R1, n)\n",
    "    X, Y, Z = [apex[i] + v[i] * t + R *\n",
    "               np.sin(thetas) * n1[i] + R * np.cos(thetas) * n2[i] for i in [0, 1, 2]]\n",
    "    ax.plot_surface(X, Y, Z, color='blue', linewidth=0, antialiased=True, alpha=0.4)\n",
    "    ax.plot(points[:,0], points[:,1], points[:,2], 'x', color='red', alpha=0.6)\n",
    "\n",
    "\n",
    "def load_pc(id=None, kind='test'):\n",
    "    if kind == 'test':\n",
    "        path = './dataset/ply/test/pointCloud/pointCloud%d.ply' % id\n",
    "    else:\n",
    "        path = './dataset/ply/training/pointCloud/pointCloud%d.ply' % id\n",
    "    pc = o3d.io.read_point_cloud(path)\n",
    "    pc.estimate_normals()\n",
    "    pc.normalize_normals()\n",
    "    return pc\n",
    "\n",
    "\n",
    "def print_train_gt(id, pc, eps):\n",
    "    gt = pickle.load(open('./metadata/ground_truth.pkl', 'rb'))\n",
    "    ps = gt[id]['params']\n",
    "    print('Ground Truth:')\n",
    "    print('   apex        ', ps[4:])\n",
    "    print('   axis        ', ps[1:4])\n",
    "    print('   theta       ', ps[0])\n",
    "    print('   ratio       ', calculate_ratio(\n",
    "        apex = np.array(ps[4:]),\n",
    "        axis_vector = np.array(ps[1:4]),\n",
    "        theta = ps[0],\n",
    "        points = np.asarray(pc.points),\n",
    "        eps=eps\n",
    "    ))"
   ]
  },
  {
   "cell_type": "markdown",
   "metadata": {},
   "source": [
    "### Fit functions"
   ]
  },
  {
   "cell_type": "code",
   "execution_count": 3,
   "metadata": {},
   "outputs": [],
   "source": [
    "def calculate_cone_params_simple(points, normals):\n",
    "    # Apex\n",
    "    B = np.zeros(3)\n",
    "    B[:] = normals[:,0] * points[:,0] + normals[:,1] * points[:,1] + normals[:,2] * points[:,2]\n",
    "    try:\n",
    "        apex = np.linalg.solve(normals, B) \n",
    "    except:\n",
    "        return None, None, None\n",
    "\n",
    "    # axis normal\n",
    "    P = [None, None, None]\n",
    "    for i in range(3):\n",
    "        P[i] = points[i] - apex\n",
    "        P[i] /= np.linalg.norm(P[i])\n",
    "    u = P[1] - P[0]\n",
    "    v = P[2] - P[0]\n",
    "    axis_vector = np.cross(u, v)\n",
    "    axis_vector /= np.linalg.norm(axis_vector)\n",
    "\n",
    "    # half the aperture - theta\n",
    "    theta = get_angle(points[0] - apex, axis_vector)\n",
    "    if theta > np.pi / 2:\n",
    "        return None, None, None\n",
    "\n",
    "    return apex, axis_vector, theta\n",
    "\n",
    "\n",
    "def fit_cone(pc, n_loop=1000, eps=1e-3, min_points_count=1e9, sample_ratio=1.0):\n",
    "    all_points = np.asarray(pc.points)\n",
    "    all_normals = np.asarray(pc.normals)\n",
    "    \n",
    "    mn = all_points.min(axis=0)\n",
    "    mx = all_points.max(axis=0)\n",
    "    L = np.sqrt(np.sum((mx - mn)**2))\n",
    "    \n",
    "    \n",
    "    best_ratio = 0\n",
    "    # best_mean_dist = np.inf\n",
    "    best_apex = None\n",
    "    best_axis_vector = None\n",
    "    best_theta = None\n",
    "\n",
    "    if all_points.shape[0] <= min_points_count:\n",
    "        sampled_points = np.copy(all_points)\n",
    "    else:\n",
    "        n_sample = int(max(all_points.shape[0] * sample_ratio, min_points_count))\n",
    "        indices = random.sample(list(range(all_points.shape[0])), n_sample)\n",
    "        sampled_points = all_points[indices]\n",
    "\n",
    "    count = 0\n",
    "    while count < n_loop:\n",
    "        # Calculate params\n",
    "        indices = np.random.choice(all_points.shape[0], 3, replace=False)\n",
    "        normals = all_normals[indices] # sample three points, normals\n",
    "        points = all_points[indices]\n",
    "\n",
    "        # too_close = False\n",
    "        # for i in range(2):\n",
    "        #     for j in range(i+1, 3):\n",
    "        #         d = np.sqrt(np.sum((points[i] - points[j])**2))\n",
    "        #         if d < 0.1 * L:\n",
    "        #             too_close = True\n",
    "        # if too_close:\n",
    "        #     continue\n",
    "\n",
    "        apex, axis_vector, theta = calculate_cone_params_simple(points, normals)\n",
    "        if apex is None:\n",
    "            continue\n",
    "        \n",
    "        count += 1\n",
    "        ratio = calculate_ratio(apex, axis_vector, theta, sampled_points, eps=eps)\n",
    "        # mean_dist = calculate_distances_to_cone(apex, axis_vector, theta, sampled_points).mean()\n",
    "        if best_ratio < ratio:\n",
    "        # if best_mean_dist > mean_dist:\n",
    "            best_ratio = ratio\n",
    "            # best_mean_dist = mean_dist\n",
    "            best_apex = apex\n",
    "            best_axis_vector = axis_vector\n",
    "            best_theta = theta\n",
    "\n",
    "    return best_apex, best_axis_vector, best_theta, best_ratio"
   ]
  },
  {
   "cell_type": "markdown",
   "metadata": {},
   "source": [
    "### Demo functions"
   ]
  },
  {
   "cell_type": "code",
   "execution_count": 4,
   "metadata": {},
   "outputs": [],
   "source": [
    "def demo_testset(id, n_loop=1000, eps=1e-2):\n",
    "    pc = load_pc(id=id, kind='test')\n",
    "    points = np.asarray(pc.points)\n",
    "    xlim = (np.min(points[:,0]) - 2, np.max(points[:,0]) + 2)\n",
    "    ylim = (np.min(points[:,1]) - 2, np.max(points[:,1]) + 2)\n",
    "    zlim = (np.min(points[:,2]) - 2, np.max(points[:,2]) + 2)\n",
    "    H = max([t[1] - t[0] for t in (xlim, ylim, zlim)])\n",
    "    apex, axis_vector, theta, ratio = fit_cone(pc, n_loop=n_loop, eps=eps)\n",
    "    plot_cone(points, apex, axis_vector, theta, H=5, xlim=xlim, ylim=ylim, zlim=zlim)\n",
    "\n",
    "    print('Prediction')\n",
    "    print('apex        ', apex)\n",
    "    print('axis_vector ', axis_vector)\n",
    "    print('theta       ', theta)\n",
    "    print('ratio       ', ratio)\n",
    "\n",
    "\n",
    "def demo_trainset(id, eps=1e-2, n_loop=1000):\n",
    "    pc = load_pc(id=id, kind='train')\n",
    "    print_train_gt(id, pc, eps)\n",
    "    points = np.asarray(pc.points)\n",
    "    xlim = (np.min(points[:,0]) - 2, np.max(points[:,0]) + 2)\n",
    "    ylim = (np.min(points[:,1]) - 2, np.max(points[:,1]) + 2)\n",
    "    zlim = (np.min(points[:,2]) - 2, np.max(points[:,2]) + 2)\n",
    "    H = max([t[1] - t[0] for t in (xlim, ylim, zlim)])\n",
    "    # apex, axis_vector, theta = fit_cone(pc, n_loop_apex=10000, n_loop_axis=10000)\n",
    "    apex, axis_vector, theta, ratio = fit_cone(pc, n_loop=n_loop, eps=eps)\n",
    "    plot_cone(points, apex, axis_vector, theta, H=5, xlim=xlim, ylim=ylim, zlim=zlim)\n",
    "\n",
    "    print('Prediction')\n",
    "    print('   apex        ', apex)\n",
    "    print('   axis_vector ', axis_vector)\n",
    "    print('   theta       ', theta)\n",
    "    # print('   ratio       ', ratio)"
   ]
  },
  {
   "cell_type": "markdown",
   "metadata": {},
   "source": [
    "### Infer"
   ]
  },
  {
   "cell_type": "code",
   "execution_count": 7,
   "metadata": {},
   "outputs": [],
   "source": [
    "def generate_result(labelpath):\n",
    "    test_label = pickle.load(open(labelpath, 'rb'))\n",
    "    cone_ids = [id for id in range(1, 926) if test_label[id] == 4]\n",
    "\n",
    "    for id in tqdm(cone_ids):\n",
    "        filepath = f'./result/{id}_4.txt'\n",
    "        if os.path.exists(filepath):\n",
    "            continue\n",
    "        pc = load_pc(id=id, kind='test')\n",
    "        apex, axis_vector, theta, mean_dist = fit_cone(pc, n_loop=10000)\n",
    "        with open(filepath, 'w') as f:\n",
    "            lines = [\n",
    "                '4\\n',\n",
    "                f'{theta}\\n',\n",
    "                f'{axis_vector[0]}\\n',\n",
    "                f'{axis_vector[1]}\\n',\n",
    "                f'{axis_vector[2]}\\n',\n",
    "                f'{apex[0]}\\n',\n",
    "                f'{apex[1]}\\n',\n",
    "                f'{apex[2]}',\n",
    "            ]\n",
    "            f.write(''.join(lines))"
   ]
  },
  {
   "cell_type": "code",
   "execution_count": 8,
   "metadata": {},
   "outputs": [
    {
     "data": {
      "application/vnd.jupyter.widget-view+json": {
       "model_id": "31cc416316874adbbaf88f34befed9ca",
       "version_major": 2,
       "version_minor": 0
      },
      "text/plain": [
       "  0%|          | 0/177 [00:00<?, ?it/s]"
      ]
     },
     "metadata": {},
     "output_type": "display_data"
    },
    {
     "data": {
      "application/vnd.jupyter.widget-view+json": {
       "model_id": "33555f15d99348759c2771452af8aa3b",
       "version_major": 2,
       "version_minor": 0
      },
      "text/plain": [
       "  0%|          | 0/173 [00:00<?, ?it/s]"
      ]
     },
     "metadata": {},
     "output_type": "display_data"
    }
   ],
   "source": [
    "generate_result('./res_dict/test_label_runA.pkl')\n",
    "generate_result('./res_dict/test_label_runB.pkl')"
   ]
  }
 ],
 "metadata": {
  "interpreter": {
   "hash": "a50171a6c5550046c047d5886c9bc3e038e1f79a718c8e4171509d576ad3f4ca"
  },
  "kernelspec": {
   "display_name": "Python 3.7.10 ('torch-lts')",
   "language": "python",
   "name": "python3"
  },
  "language_info": {
   "codemirror_mode": {
    "name": "ipython",
    "version": 3
   },
   "file_extension": ".py",
   "mimetype": "text/x-python",
   "name": "python",
   "nbconvert_exporter": "python",
   "pygments_lexer": "ipython3",
   "version": "3.7.10"
  },
  "orig_nbformat": 4
 },
 "nbformat": 4,
 "nbformat_minor": 2
}
