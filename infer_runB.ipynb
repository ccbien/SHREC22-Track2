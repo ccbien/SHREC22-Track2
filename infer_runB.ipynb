{
 "cells": [
  {
   "cell_type": "markdown",
   "metadata": {},
   "source": [
    "## Import"
   ]
  },
  {
   "cell_type": "code",
   "execution_count": 14,
   "metadata": {},
   "outputs": [],
   "source": [
    "%matplotlib inline\n",
    "import os, pickle\n",
    "import numpy as np\n",
    "import open3d as o3d\n",
    "import geom3d, fit3d\n",
    "import matplotlib.pyplot as plt\n",
    "from myShape3d import Plane, Sphere, Cone\n",
    "from cylinder_fitting import fit\n",
    "\n",
    "\n",
    "from tqdm.notebook import tqdm\n",
    "from sklearn.decomposition import PCA\n",
    "from feature_extractor import surflet_pairs_feature, get_histogram\n",
    "\n",
    "PCA_THRESHOLD = 0.015\n",
    "PLY_PATH = './dataset/ply/test/pointCloud'\n",
    "SAVE_CLS_PATH = './res_dict/test_label_runB.pkl'\n",
    "SAVE_PARAM_PATH = './dataset/ply/test/GTpointCloud'\n",
    "LEN_TESTSET = len(next(os.walk(PLY_PATH))[2])"
   ]
  },
  {
   "cell_type": "markdown",
   "metadata": {},
   "source": [
    "## Classify"
   ]
  },
  {
   "cell_type": "markdown",
   "metadata": {},
   "source": [
    "### Utils"
   ]
  },
  {
   "cell_type": "code",
   "execution_count": 15,
   "metadata": {},
   "outputs": [],
   "source": [
    "def knn_predict(model, xs, labels, honv=True):\n",
    "    if not honv: \n",
    "        return model.predict(xs)\n",
    "    counts = [len(x) for x in xs]\n",
    "    data = np.concatenate(xs, axis=0)\n",
    "    probs = model.predict_proba(data)\n",
    "\n",
    "    pred = []\n",
    "    head = 0\n",
    "    for count in counts:\n",
    "        p = probs[head:head+count, :].sum(axis=0)\n",
    "        pred.append(labels[p.argmax()])\n",
    "        head += count\n",
    "    return pred\n",
    "\n",
    "def knn_inference(model, labels, honv=True, path=PLY_PATH):\n",
    "    test_label = {}\n",
    "    if not honv:\n",
    "        xs = []\n",
    "        for id in tqdm(range(1, LEN_TESTSET + 1)):\n",
    "            xs.append(surflet_pairs_feature(filepath=os.path.join(path, f\"pointCloud{id}.ply\")))\n",
    "        xs = np.array(xs)\n",
    "        ys = knn_predict(model, xs, labels=labels, honv=False)\n",
    "    else:\n",
    "        xs = []\n",
    "        for id in tqdm(range(1, LEN_TESTSET + 1)):\n",
    "            hists = get_histogram(filepath=os.path.join(path, f\"pointCloud{id}.ply\"), bins=25, max_ratio=0.8)\n",
    "            xs.append(np.array(hists))\n",
    "        ys = knn_predict(model, xs, labels=labels, honv=True)\n",
    "\n",
    "    for id, y in enumerate(ys, 1):\n",
    "        test_label[id] = y\n",
    "    return test_label\n"
   ]
  },
  {
   "cell_type": "markdown",
   "metadata": {},
   "source": [
    "### Plane vs others"
   ]
  },
  {
   "cell_type": "code",
   "execution_count": 16,
   "metadata": {},
   "outputs": [
    {
     "data": {
      "application/vnd.jupyter.widget-view+json": {
       "model_id": "fcaec1c9456846d28a490f4961daec6e",
       "version_major": 2,
       "version_minor": 0
      },
      "text/plain": [
       "  0%|          | 0/15 [00:00<?, ?it/s]"
      ]
     },
     "metadata": {},
     "output_type": "display_data"
    }
   ],
   "source": [
    "test_label = {}\n",
    "knn_12 = pickle.load(open('./honv/is_plane_25_08_03_full/model.pkl', 'rb'))\n",
    "test_label = knn_inference(knn_12, [1, 2], honv=True)\n",
    "del knn_12"
   ]
  },
  {
   "cell_type": "code",
   "execution_count": 17,
   "metadata": {},
   "outputs": [
    {
     "name": "stdout",
     "output_type": "stream",
     "text": [
      "[+] Remove plane false-accepts:\n",
      "\t1 plane false-accepts\n"
     ]
    }
   ],
   "source": [
    "print('[+] Remove plane false-accepts:')\n",
    "false_accepts = 0\n",
    "for id in range(1, LEN_TESTSET + 1):\n",
    "    if test_label[id] == 1:\n",
    "        x = np.asarray(o3d.io.read_point_cloud(os.path.join(PLY_PATH, f\"pointCloud{id}.ply\")).points)\n",
    "        model = PCA()\n",
    "        model.fit_transform(x)\n",
    "        # print(min(model.explained_variance_ratio_))\n",
    "        if min(model.explained_variance_ratio_) > PCA_THRESHOLD:\n",
    "            test_label[id] = 2\n",
    "            false_accepts += 1\n",
    "print(f\"\\t{false_accepts} plane false-accepts\")"
   ]
  },
  {
   "cell_type": "markdown",
   "metadata": {},
   "source": [
    "### Cylinder-Cone vs. Sphere-Torus"
   ]
  },
  {
   "cell_type": "code",
   "execution_count": 18,
   "metadata": {},
   "outputs": [
    {
     "data": {
      "application/vnd.jupyter.widget-view+json": {
       "model_id": "665e4b003b4d495faeda19d07a7872ad",
       "version_major": 2,
       "version_minor": 0
      },
      "text/plain": [
       "  0%|          | 0/15 [00:00<?, ?it/s]"
      ]
     },
     "metadata": {},
     "output_type": "display_data"
    }
   ],
   "source": [
    "knn_23 = pickle.load(open('./honv/2_class_25_08_05_full/model.pkl', 'rb'))\n",
    "for id, label in knn_inference(knn_23, [2, 3], honv=True).items():\n",
    "    if test_label[id] == 2:\n",
    "        test_label[id] = label\n",
    "del knn_23"
   ]
  },
  {
   "cell_type": "markdown",
   "metadata": {},
   "source": [
    "### Sphere vs. Torus"
   ]
  },
  {
   "cell_type": "code",
   "execution_count": 19,
   "metadata": {},
   "outputs": [
    {
     "data": {
      "application/vnd.jupyter.widget-view+json": {
       "model_id": "6feb8c1f48aa42da8bd97cc997743206",
       "version_major": 2,
       "version_minor": 0
      },
      "text/plain": [
       "  0%|          | 0/15 [00:00<?, ?it/s]"
      ]
     },
     "metadata": {},
     "output_type": "display_data"
    }
   ],
   "source": [
    "knn_35 = pickle.load(open('./SP/35_15_full/model.pkl', 'rb'))\n",
    "for id, label in knn_inference(knn_35, [3, 5], honv=False).items():\n",
    "    if test_label[id] == 3:\n",
    "        test_label[id] = label\n",
    "del knn_35"
   ]
  },
  {
   "cell_type": "markdown",
   "metadata": {},
   "source": [
    "### Cylinder vs. Cone"
   ]
  },
  {
   "cell_type": "code",
   "execution_count": 20,
   "metadata": {},
   "outputs": [
    {
     "data": {
      "application/vnd.jupyter.widget-view+json": {
       "model_id": "12dc1677a2c4427b87119641d2ddc744",
       "version_major": 2,
       "version_minor": 0
      },
      "text/plain": [
       "  0%|          | 0/15 [00:00<?, ?it/s]"
      ]
     },
     "metadata": {},
     "output_type": "display_data"
    }
   ],
   "source": [
    "knn_24 = pickle.load(open('./honv/cyl-cone_25_08_05_full/model.pkl', 'rb'))\n",
    "for id, label in knn_inference(knn_24, [2, 4], honv=True).items():\n",
    "    if test_label[id] == 2:\n",
    "        test_label[id] = label\n",
    "del knn_24"
   ]
  },
  {
   "cell_type": "markdown",
   "metadata": {},
   "source": [
    "### Save results"
   ]
  },
  {
   "cell_type": "code",
   "execution_count": 21,
   "metadata": {},
   "outputs": [],
   "source": [
    "pickle.dump(test_label, open(SAVE_CLS_PATH, 'wb'))"
   ]
  },
  {
   "cell_type": "markdown",
   "metadata": {},
   "source": [
    "### Visualize results"
   ]
  },
  {
   "cell_type": "code",
   "execution_count": 22,
   "metadata": {},
   "outputs": [
    {
     "name": "stdout",
     "output_type": "stream",
     "text": [
      "[+] sphere\n",
      "[+] cylinder\n",
      "[+] torus\n",
      "[+] sphere\n",
      "[+] sphere\n",
      "[+] cone\n",
      "[+] cylinder\n",
      "[+] sphere\n",
      "[+] sphere\n",
      "[+] sphere\n",
      "[+] cone\n",
      "[+] plane\n",
      "[+] sphere\n",
      "[+] cylinder\n",
      "[+] cone\n"
     ]
    }
   ],
   "source": [
    "name = ['', 'plane', 'cylinder', 'sphere', 'cone', 'torus']\n",
    "LEN_DEMO = 15\n",
    "for i in range(1, LEN_DEMO + 1):\n",
    "    pts = np.asarray(o3d.io.read_point_cloud(os.path.join(PLY_PATH, f\"pointCloud{i}.ply\")).points)\n",
    "    print(\"[+]\", name[test_label[i]])"
   ]
  },
  {
   "cell_type": "markdown",
   "metadata": {},
   "source": [
    "## Fit shape"
   ]
  },
  {
   "cell_type": "markdown",
   "metadata": {},
   "source": [
    "### Load label"
   ]
  },
  {
   "cell_type": "code",
   "execution_count": 26,
   "metadata": {},
   "outputs": [],
   "source": [
    "test_label = pickle.load(open(SAVE_CLS_PATH, 'rb'))"
   ]
  },
  {
   "cell_type": "markdown",
   "metadata": {},
   "source": [
    "### Utils"
   ]
  },
  {
   "cell_type": "code",
   "execution_count": 27,
   "metadata": {},
   "outputs": [],
   "source": [
    "def generate_shape_params(pc, param_file, shape_type=None):\n",
    "    if shape_type=='plane':\n",
    "        generate_plane_result(pc, param_file)\n",
    "    elif shape_type=='cylinder':\n",
    "        generate_cylinder_result(pc, param_file)\n",
    "    elif shape_type=='sphere':\n",
    "        generate_sphere_result(pc, param_file)\n",
    "    elif shape_type=='cone':\n",
    "        generate_cone_result(pc, param_file)\n",
    "    elif shape_type=='torus':\n",
    "        generate_torus_result(pc, param_file)\n",
    "    else:\n",
    "        shape_type = None\n",
    "\n",
    "    assert shape_type != None, \"Invalid shape type\"\n",
    "\n",
    "def generate_plane_result(pc, param_file):\n",
    "    plane = Plane()\n",
    "    normal, center, loss, inliers = plane.fit(pc)\n",
    "\n",
    "    param_file.write('1\\n')\n",
    "    for i in normal:\n",
    "        param_file.write(str(np.format_float_positional(i, precision=9, trim='-')))\n",
    "        param_file.write('\\n')\n",
    "    for i in center:\n",
    "        param_file.write(str(np.format_float_positional(i, precision=9, trim='-')))\n",
    "        param_file.write('\\n')\n",
    "\n",
    "    param_file.close()\n",
    "\n",
    "def generate_cylinder_result(pc, param_file):\n",
    "    pts = np.asarray(pc.points)\n",
    "    axis, center, radius, fit_err = fit(pts)\n",
    "            \n",
    "    param_file.write('2\\n')\n",
    "    param_file.write(str(np.format_float_positional(radius, precision=9, trim='-')) + '\\n')\n",
    "    for i in axis:\n",
    "        param_file.write(str(np.format_float_positional(i, precision=9, trim='-')))\n",
    "        param_file.write('\\n')\n",
    "    for i in center:\n",
    "        param_file.write(str(np.format_float_positional(i, precision=9, trim='-')))\n",
    "        param_file.write('\\n')\n",
    "\n",
    "    param_file.close()\n",
    "\n",
    "def generate_sphere_result(pc, param_file):\n",
    "    sphere = Sphere()\n",
    "    center, radius, inliers = sphere.fit(pc)\n",
    "\n",
    "    param_file.write('3\\n')\n",
    "    param_file.write(str(np.format_float_positional(radius, precision=9, trim='-')) + '\\n')\n",
    "    for i in center:\n",
    "        param_file.write(str(np.format_float_positional(i, precision=9, trim='-')))\n",
    "        param_file.write('\\n')\n",
    "\n",
    "    param_file.close()\n",
    "    \n",
    "def generate_cone_result(pc, param_file):\n",
    "    cone = Cone()\n",
    "    apex, axis, theta, mean_dist = cone.fit(pc, maxIteration=10000)\n",
    "\n",
    "    param_file.write('4\\n')\n",
    "    param_file.write(str(np.format_float_positional(theta, precision=9, trim='-')) + '\\n')\n",
    "    for i in axis:\n",
    "        param_file.write(str(np.format_float_positional(i, precision=9, trim='-')))\n",
    "        param_file.write('\\n')\n",
    "    for i in apex:\n",
    "        param_file.write(str(np.format_float_positional(i, precision=9, trim='-')))\n",
    "        param_file.write('\\n')\n",
    "\n",
    "    param_file.close()\n",
    "\n",
    "    \n",
    "def generate_torus_result(pc, param_file):\n",
    "    pts = np.asarray(pc.points)\n",
    "    # c_init = np.mean(pts, axis=0)\n",
    "    # initial_guess = geom3d.Torus([c_init[0], c_init[1], c_init[2]], [0, 0, 1], 1, 0.1)\n",
    "    initial_guess = geom3d.Torus([0, 0, 0], [0, 0, 1], 1, 0.1)\n",
    "    torus = fit3d.torus_fit(pts, initial_guess=initial_guess)\n",
    "    axis = np.array(torus.direction)\n",
    "    axis = axis / np.linalg.norm(axis)\n",
    "    center = np.array(torus.center)\n",
    "    majorRadius = torus.major_radius\n",
    "    minorRadius = torus.minor_radius\n",
    "\n",
    "    param_file.write('5\\n')\n",
    "    param_file.write(str(np.format_float_positional(majorRadius, precision=9, trim='-')) + '\\n')\n",
    "    param_file.write(str(np.format_float_positional(minorRadius, precision=9, trim='-')) + '\\n')\n",
    "    for i in axis:\n",
    "        param_file.write(str(np.format_float_positional(i, precision=9, trim='-')))\n",
    "        param_file.write('\\n')\n",
    "    for i in center:\n",
    "        param_file.write(str(np.format_float_positional(i, precision=9, trim='-')))\n",
    "        param_file.write('\\n')\n",
    "\n",
    "    param_file.close()"
   ]
  },
  {
   "cell_type": "code",
   "execution_count": 28,
   "metadata": {},
   "outputs": [
    {
     "data": {
      "application/vnd.jupyter.widget-view+json": {
       "model_id": "49246e10890c49ba80d2921cb6ea16ae",
       "version_major": 2,
       "version_minor": 0
      },
      "text/plain": [
       "  0%|          | 0/15 [00:00<?, ?it/s]"
      ]
     },
     "metadata": {},
     "output_type": "display_data"
    }
   ],
   "source": [
    "name = ['', 'plane', 'cylinder', 'sphere', 'cone', 'torus']\n",
    "\n",
    "for id in tqdm(range(1, LEN_TESTSET + 1)):\n",
    "    label = test_label[id]\n",
    "    pc= o3d.io.read_point_cloud(os.path.join(PLY_PATH, f\"pointCloud{id}.ply\"))\n",
    "    param_file = open(os.path.join(SAVE_PARAM_PATH, f\"pointCloud{id}_prediction.txt\"), \"w\") \n",
    "\n",
    "    try:\n",
    "        generate_shape_params(pc, param_file, name[label])\n",
    "    except:\n",
    "        print(f\"[+] Failed at id: {id}, shape: {name[label]}\")\n"
   ]
  }
 ],
 "metadata": {
  "interpreter": {
   "hash": "bf9ea24be2019ecb744b2e80f9d146e6275ff598db9a2f716dbd2a13dfe1c2e4"
  },
  "kernelspec": {
   "display_name": "Python 3.9.12 64-bit",
   "language": "python",
   "name": "python3"
  },
  "language_info": {
   "codemirror_mode": {
    "name": "ipython",
    "version": 3
   },
   "file_extension": ".py",
   "mimetype": "text/x-python",
   "name": "python",
   "nbconvert_exporter": "python",
   "pygments_lexer": "ipython3",
   "version": "3.9.12"
  },
  "orig_nbformat": 4
 },
 "nbformat": 4,
 "nbformat_minor": 2
}
