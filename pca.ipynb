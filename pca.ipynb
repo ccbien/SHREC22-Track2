{
 "cells": [
  {
   "cell_type": "code",
   "execution_count": 1,
   "metadata": {},
   "outputs": [
    {
     "name": "stdout",
     "output_type": "stream",
     "text": [
      "Jupyter environment detected. Enabling Open3D WebVisualizer.\n",
      "[Open3D INFO] WebRTC GUI backend enabled.\n",
      "[Open3D INFO] WebRTCWindowSystem: HTTP handshake server disabled.\n"
     ]
    }
   ],
   "source": [
    "import pickle\n",
    "from icecream import ic\n",
    "import numpy as np\n",
    "import matplotlib.pyplot as plt\n",
    "from tqdm.notebook import tqdm\n",
    "from sklearn.decomposition import PCA\n",
    "from pca import pca\n",
    "from sklearn.metrics import ConfusionMatrixDisplay\n",
    "import open3d as o3d\n",
    "\n",
    "from dataloader import TrainLoader, read_txt"
   ]
  },
  {
   "cell_type": "markdown",
   "metadata": {},
   "source": [
    "### Train"
   ]
  },
  {
   "cell_type": "code",
   "execution_count": 2,
   "metadata": {},
   "outputs": [],
   "source": [
    "def run_pca(xs, ratio, to_file=None):\n",
    "    values = []\n",
    "    for x in tqdm(xs):\n",
    "        model = PCA()\n",
    "        model.fit_transform(x)\n",
    "        if ratio:\n",
    "            values.append(min(model.explained_variance_ratio_))\n",
    "        else:\n",
    "            values.append(min(model.explained_variance_))\n",
    "    values = np.array(values)\n",
    "    if to_file is not None:\n",
    "        pickle.dump(values, open(to_file, 'wb'))\n",
    "    return values\n",
    "\n",
    "\n",
    "def sample_min_variance_ratio(N):\n",
    "    a = {}\n",
    "    loader = TrainLoader(root='./dataset/txt/training/pointCloud')\n",
    "    for label in range(1, 6):\n",
    "        xs = loader.sample(N, label, points_only=True)\n",
    "        a[label] = run_pca(xs, ratio=True, to_file=f'./pkl/min_variance_ratio_{label}_{N}.pkl')\n",
    "    return a\n",
    "\n",
    "\n",
    "def sample_min_variance(N):\n",
    "    a = {}\n",
    "    loader = TrainLoader(root='./dataset/txt/training/pointCloud')\n",
    "    for label in range(1, 6):\n",
    "        xs = loader.sample(N, label, points_only=True)\n",
    "        a[label] = run_pca(xs, ratio=False, to_file=f'./pkl/min_variance_{label}_{N}.pkl')\n",
    "    return a"
   ]
  },
  {
   "cell_type": "code",
   "execution_count": 3,
   "metadata": {},
   "outputs": [],
   "source": [
    "# a = sample_min_variance(46000 // 5)\n",
    "a = {}\n",
    "for label in range(1, 6):\n",
    "    a[label] = pickle.load(open(f'./pkl/min_variance_ratio_{label}_9200.pkl', 'rb'))"
   ]
  },
  {
   "cell_type": "code",
   "execution_count": 4,
   "metadata": {},
   "outputs": [],
   "source": [
    "plane_var = a[1]\n",
    "other_var = np.concatenate([a[2], a[3], a[4], a[5]])"
   ]
  },
  {
   "cell_type": "code",
   "execution_count": 14,
   "metadata": {},
   "outputs": [
    {
     "name": "stderr",
     "output_type": "stream",
     "text": [
      "ic| threshold: 0.005\n"
     ]
    },
    {
     "data": {
      "text/plain": [
       "0.005"
      ]
     },
     "execution_count": 14,
     "metadata": {},
     "output_type": "execute_result"
    }
   ],
   "source": [
    "threshold = ((other_var.mean() - other_var.std()) + (plane_var.mean() + plane_var.std())) / 2\n",
    "threshold = 5e-3\n",
    "# threshold = plane_var.mean() + plane_var.std()\n",
    "# threshold = other_var.mean() - other_var.std()\n",
    "TP = (plane_var <= threshold).sum() / 460\n",
    "FP = (other_var <= threshold).sum() / 460\n",
    "FN = (plane_var > threshold).sum() / 460\n",
    "TN = (other_var > threshold).sum() / 460\n",
    "ic(threshold)"
   ]
  },
  {
   "cell_type": "code",
   "execution_count": 15,
   "metadata": {},
   "outputs": [
    {
     "data": {
      "text/plain": [
       "93.72826086956522"
      ]
     },
     "execution_count": 15,
     "metadata": {},
     "output_type": "execute_result"
    }
   ],
   "source": [
    "TP + TN"
   ]
  },
  {
   "cell_type": "code",
   "execution_count": 16,
   "metadata": {},
   "outputs": [
    {
     "data": {
      "image/png": "[encoded data removed]",
      "text/plain": [
       "<Figure size 432x288 with 2 Axes>"
      ]
     },
     "metadata": {
      "needs_background": "light"
     },
     "output_type": "display_data"
    }
   ],
   "source": [
    "cm = np.array([[TP, FN], [FP, TN]]) \n",
    "ls = ['plane', 'other']\n",
    "disp = ConfusionMatrixDisplay(confusion_matrix=cm, display_labels=ls)\n",
    "disp.plot()\n",
    "plt.show()"
   ]
  },
  {
   "cell_type": "markdown",
   "metadata": {},
   "source": [
    "## Generate results"
   ]
  },
  {
   "cell_type": "code",
   "execution_count": 28,
   "metadata": {},
   "outputs": [
    {
     "data": {
      "text/plain": [
       "0.1"
      ]
     },
     "execution_count": 28,
     "metadata": {},
     "output_type": "execute_result"
    }
   ],
   "source": [
    "threshold"
   ]
  },
  {
   "cell_type": "code",
   "execution_count": 29,
   "metadata": {},
   "outputs": [
    {
     "data": {
      "application/vnd.jupyter.widget-view+json": {
       "model_id": "d3290ca0cf664a2685ef8ebe03c1510a",
       "version_major": 2,
       "version_minor": 0
      },
      "text/plain": [
       "  0%|          | 0/925 [00:00<?, ?it/s]"
      ]
     },
     "metadata": {},
     "output_type": "display_data"
    }
   ],
   "source": [
    "def test():\n",
    "    filepath = './dataset/ply/test/pointCloud/pointCloud%d.ply'\n",
    "    plane_ids = []\n",
    "    for id in tqdm(range(1, 926)):\n",
    "        x = np.asarray(o3d.io.read_point_cloud(filepath % id).points)\n",
    "        model = PCA()\n",
    "        model.fit_transform(x)\n",
    "        if min(model.explained_variance_ratio_) <= threshold:\n",
    "            plane_ids.append(id)\n",
    "    \n",
    "    with open('./results/plane_ids.txt', 'w') as f:\n",
    "        f.write('\\n'.join(map(str, plane_ids)))\n",
    "    return plane_ids\n",
    "\n",
    "plane_ids = test()"
   ]
  },
  {
   "cell_type": "code",
   "execution_count": 30,
   "metadata": {},
   "outputs": [],
   "source": [
    "is_plane = [0 for i in range(925)]\n",
    "for id in plane_ids:\n",
    "    is_plane[id - 1] = 1\n",
    "\n",
    "with open('./results/is_plane.txt', 'w') as f:\n",
    "    f.write('\\n'.join(map(str, is_plane)))"
   ]
  }
 ],
 "metadata": {
  "interpreter": {
   "hash": "a50171a6c5550046c047d5886c9bc3e038e1f79a718c8e4171509d576ad3f4ca"
  },
  "kernelspec": {
   "display_name": "Python 3.7.10 ('torch-lts')",
   "language": "python",
   "name": "python3"
  },
  "language_info": {
   "codemirror_mode": {
    "name": "ipython",
    "version": 3
   },
   "file_extension": ".py",
   "mimetype": "text/x-python",
   "name": "python",
   "nbconvert_exporter": "python",
   "pygments_lexer": "ipython3",
   "version": "3.7.10"
  },
  "orig_nbformat": 4
 },
 "nbformat": 4,
 "nbformat_minor": 2
}
